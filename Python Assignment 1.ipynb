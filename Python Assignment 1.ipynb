{
 "cells": [
  {
   "cell_type": "code",
   "execution_count": 2,
   "id": "1a5cbf82-5f12-4958-8b96-52d0ae96ebe0",
   "metadata": {},
   "outputs": [],
   "source": [
    "# Q1. Who developed Python Programming language?\n",
    "# Ans. Python was developed by Guido van Rossum."
   ]
  },
  {
   "cell_type": "code",
   "execution_count": 3,
   "id": "6f4e1ca3-505b-4aad-8a96-42c56203ef11",
   "metadata": {},
   "outputs": [],
   "source": [
    "# Q2. Which type of Programming does Python support?\n",
    "# Ans. Python is an interpreted programming language, which supports object-oriented, structured, and functional programming."
   ]
  },
  {
   "cell_type": "code",
   "execution_count": 4,
   "id": "213ae0e4-9cad-4194-bee9-395c2d2ffdbd",
   "metadata": {},
   "outputs": [],
   "source": [
    "# Q3. Is Python case sensitive when dealing with identifiers?\n",
    "# Ans. Yes, Python is case sensitive when dealing with identifiers."
   ]
  },
  {
   "cell_type": "code",
   "execution_count": 5,
   "id": "86055cb4-b69a-485b-9d08-a00e8e7af36f",
   "metadata": {},
   "outputs": [],
   "source": [
    "# Q4. What is the correct extension of python file?\n",
    "# Ans. The correct extension for a Python file is .py"
   ]
  },
  {
   "cell_type": "code",
   "execution_count": 6,
   "id": "a58169b4-d076-4c05-8551-ded3bd7cd58c",
   "metadata": {},
   "outputs": [],
   "source": [
    "# Q5. Is Python code compilled or interpreted?\n",
    "# Ans. Python code is both compiled and interpreted."
   ]
  },
  {
   "cell_type": "code",
   "execution_count": 7,
   "id": "0f98c99c-716a-4b05-8350-c7cb44d85aa4",
   "metadata": {},
   "outputs": [],
   "source": [
    "# Q6. Name a few blocks of code used to define in Python language?\n",
    "# Ans. In Python, to define a block of code we use indentation"
   ]
  },
  {
   "cell_type": "code",
   "execution_count": 8,
   "id": "0a7befc1-b9d9-4391-b05b-4b3c2671d631",
   "metadata": {},
   "outputs": [],
   "source": [
    "# Q7. State a character used to give single-line comments in Python.\n",
    "# Ans. To write single-line comments in Python we use the Hash character (#) at the beginning of the line."
   ]
  },
  {
   "cell_type": "code",
   "execution_count": 9,
   "id": "3864c2ba-2c23-4cbf-8dd0-520149059b64",
   "metadata": {},
   "outputs": [],
   "source": [
    "# Q8. Mention functions which can help us to find the version of Python that we are currently working on?\n",
    "# Ans. sys.version"
   ]
  },
  {
   "cell_type": "code",
   "execution_count": 10,
   "id": "a5dff7c5-b6d7-48c6-a0f0-8529b78d010b",
   "metadata": {},
   "outputs": [],
   "source": [
    "# Q9. Python supports the creation of anonymous function at run time, using a construct called _ _ _ _ _ _\n",
    "# Ans. lambda"
   ]
  },
  {
   "cell_type": "code",
   "execution_count": 11,
   "id": "3469b76f-783c-426a-a794-c9b67e6280eb",
   "metadata": {},
   "outputs": [],
   "source": [
    "# Q10. What does pip stand for Python?\n",
    "# Ans. pip stands for Preferred Installer Program."
   ]
  },
  {
   "cell_type": "code",
   "execution_count": 13,
   "id": "afe4c134-b52a-4774-bcee-caab3e9f15da",
   "metadata": {},
   "outputs": [],
   "source": [
    "# Q11. Mention a few built-in functions in Python.\n",
    "# Ans. Here are a few built-in functions in Python:\n",
    "# len(x): Returns the length of an object (like a string, list, or tuple).\n",
    "# int(x): Converts a value to an integer.\n",
    "# str(x): Converts a value to a string.\n",
    "# float(x): Converts a value to a floating-point number.\n",
    "# list(x): Converts an iterable (like a string or tuple) to a list.\n",
    "# dict(x): Creates a dictionary.\n",
    "# input(): Takes user input as a string.\n",
    "# print(x): Prints the value(s) to the console."
   ]
  },
  {
   "cell_type": "code",
   "execution_count": 14,
   "id": "e3c49fec-f75f-4e3c-8c80-8f0e9a89f747",
   "metadata": {},
   "outputs": [],
   "source": [
    "# Q12. What is the maximum possible lenth of an identifier in Python?\n",
    "# Ans. There is no limit of length of identifier. "
   ]
  },
  {
   "cell_type": "code",
   "execution_count": 15,
   "id": "89da8af5-1972-48a5-b800-3e1902b3bbc2",
   "metadata": {},
   "outputs": [],
   "source": [
    "# Q13. What are the benefits of using Python?\n",
    "# Ans. Python offers a variety of benefits that make it a popular choice for many programmers and organizations. \n",
    "#Here are some of the key advantages:\n",
    "# 1. Readability and Simplicity: Python's syntax is clear and easy to understand, which makes it an excellent choice for beginners and \n",
    "#enhances productivity for experienced developers.\n",
    "# 2. Versatility: Python is a general-purpose language, suitable for a wide range of applications, including web development, data analysis, \n",
    "#artificial intelligence, scientific computing, automation, and more.\n",
    "# 3. Extensive Libraries and Frameworks: Python has a rich ecosystem of libraries and frameworks that simplify many tasks. \n",
    "#Examples include NumPy and pandas for data analysis, TensorFlow and PyTorch for machine learning, Flask and Django for web development, and many more.\n",
    "# 4. Cross-Platform Compatibility: Python is available on multiple operating systems, including Windows, macOS, and Linux, \n",
    "#allowing developers to create cross-platform applications with ease.\n",
    "# 5. Community Support: Python has a large and active community, which means a wealth of resources, including extensive documentation, tutorials, \n",
    "#and forums where developers can seek help and share knowledge.\n",
    "# 6. Integration Capabilities: Python can easily integrate with other languages and technologies, such as C/C++, Java, and .NET, \n",
    "#making it a flexible choice for projects that require interoperability.\n",
    "# 7. Rapid Development: Python's simplicity and the availability of powerful libraries enable rapid development and prototyping, \n",
    "#which is particularly beneficial for startups and research projects.\n",
    "# 8. Strong Support for Data Science and AI: Python is the language of choice for many data scientists and AI researchers, \n",
    "#thanks to libraries like scikit-learn, Keras, and Matplotlib, which provide tools for data manipulation, machine learning, and data visualization.\n",
    "# 9. Portability: Python code can be written once and run on various platforms without modification, thanks to its interpreted nature and \n",
    "#platform-independent bytecode.\n",
    "# 10. Open Source: Python is open-source, meaning it is free to use and distribute, and it benefits from contributions from developers worldwide, \n",
    "#ensuring continuous improvement and innovation.\n",
    "# These benefits make Python a highly attractive language for a wide range of programming tasks and have contributed to its growing popularity \n",
    "#across different industries and domains.\n"
   ]
  },
  {
   "cell_type": "code",
   "execution_count": 16,
   "id": "3f921923-d89b-4386-acd3-41ce7122dcef",
   "metadata": {},
   "outputs": [],
   "source": [
    "# Q14. How is memory managed in Python?\n",
    "# Ans. Python has a private heap space that stores all the objects. The Python memory manager regulates various aspects of this heap, \n",
    "#such as sharing, caching, segmentation, and allocation. The user has no control over the heap; only the Python interpreter has access."
   ]
  },
  {
   "cell_type": "code",
   "execution_count": 19,
   "id": "3c74a480-35d8-42a3-8036-0913dfbc80dc",
   "metadata": {},
   "outputs": [],
   "source": [
    "# Q15. How to install Python on windows and set path variables?\n",
    "# Ans. Installing Python on Windows and setting the path variables is a straightforward process. Here are the steps:\n",
    "# 1. Download Python:\n",
    "# Visit the official Python website at https://www.python.org/downloads/ and download the latest version of Python for Windows. \n",
    "#Choose either the 32-bit or 64-bit installer, depending on your system architecture.\n",
    "# 2. Run the Installer:\n",
    "# Once the installer is downloaded, double-click on the downloaded file to run it. The installer will open.\n",
    "# 3. Install Python:\n",
    "# o\tCheck the box that says \"Add Python x.x to PATH.\" This option will automatically add Python to your system PATH, \n",
    "#making it accessible from the command line.\n",
    "# o\tClick on \"Install Now\" to start the installation process. You can customize the installation by clicking on \n",
    "#\"Customize installation\" if needed.\n",
    "# 4. Verify Installation:\n",
    "# After the installation is complete, open Command Prompt and type python --version to verify that Python is installed correctly. \n",
    "#You should see the version number of the installed Python.\n",
    "# 5. Setting PATH Variables (If Not Done Automatically):\n",
    "# If you didn't select the option to add Python to the PATH during installation or if you are using an older version of Python, \n",
    "#you can manually add it to the PATH:\n",
    "# o\tRight-click on \"This PC\" or \"My Computer\" and select \"Properties.\"\n",
    "# o\tClick on \"Advanced system settings\" on the left panel.\n",
    "# o\tIn the System Properties window, click on the \"Environment Variables\" button.\n",
    "# o\tIn the Environment Variables window, under \"System variables,\" select the \"Path\" variable and click on \"Edit.\"\n",
    "# o\tClick on \"New\" and add the path to your Python installation directory (typically C:\\PythonXX, where XX is the version number). \n",
    "#For example, C:\\Python39.\n",
    "# o\tClick \"OK\" to save the changes.\n",
    "# 6. Verify PATH Configuration:\n",
    "# Open Command Prompt again and type python --version to ensure that Python can be accessed from any directory.\n",
    "# That's it! Python is now installed on your Windows system, and you've configured the PATH variables to make it accessible from the command line. \n",
    "#You can start writing and executing Python code right away."
   ]
  },
  {
   "cell_type": "code",
   "execution_count": null,
   "id": "1198194c-7a59-4699-901d-3fe582dbd011",
   "metadata": {},
   "outputs": [],
   "source": [
    "# Q16. Is identation required in Python?\n",
    "#Ans. Yes, indentation is required in Python."
   ]
  }
 ],
 "metadata": {
  "kernelspec": {
   "display_name": "Python 3 (ipykernel)",
   "language": "python",
   "name": "python3"
  },
  "language_info": {
   "codemirror_mode": {
    "name": "ipython",
    "version": 3
   },
   "file_extension": ".py",
   "mimetype": "text/x-python",
   "name": "python",
   "nbconvert_exporter": "python",
   "pygments_lexer": "ipython3",
   "version": "3.12.3"
  }
 },
 "nbformat": 4,
 "nbformat_minor": 5
}
