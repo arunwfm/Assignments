{
 "cells": [
  {
   "cell_type": "code",
   "execution_count": 1,
   "id": "6f29478f-cc7a-4f3d-9692-94d8e9442afb",
   "metadata": {},
   "outputs": [],
   "source": [
    "# Q1. Explain with an example each when to use a for loop and a while loop."
   ]
  },
  {
   "cell_type": "code",
   "execution_count": 3,
   "id": "c61468ed-8f85-45db-865b-a1baea30f3a1",
   "metadata": {},
   "outputs": [],
   "source": [
    "# Ans: When to Use a For Loop:\n",
    "# For loops are used when you know in advance how many times you need to iterate over a sequence (like a list, tuple, string, or range). \n",
    "# They are ideal for iterating over a fixed collection of items or a known range of values.  \n",
    "#Example: Iterating Over a List:\n",
    "#Suppose we have a list of numbers, and we want to print each number in the list. \n",
    "#Here, we know the exact number of iterations required (equal to the length of the list).\n"
   ]
  },
  {
   "cell_type": "code",
   "execution_count": 1,
   "id": "4e4f57ca-51f9-4ab0-bfae-61e49872be01",
   "metadata": {},
   "outputs": [
    {
     "name": "stdout",
     "output_type": "stream",
     "text": [
      "1\n",
      "2\n",
      "3\n",
      "4\n",
      "5\n"
     ]
    }
   ],
   "source": [
    "numbers = [1, 2, 3, 4, 5]\n",
    "\n",
    "for number in numbers:\n",
    "    print(number)\n"
   ]
  },
  {
   "cell_type": "code",
   "execution_count": 2,
   "id": "65f541cc-f088-487b-888d-a6ccf035d97b",
   "metadata": {},
   "outputs": [],
   "source": [
    "# When to Use a While Loop: When the number of iterations is not known in advance and the loop should continue until a certain condition is met.\n",
    "# Example: Imagine you want to count down from 5 to 1"
   ]
  },
  {
   "cell_type": "code",
   "execution_count": 7,
   "id": "805e94c4-1c35-4c9b-867c-7caa84dab742",
   "metadata": {},
   "outputs": [
    {
     "name": "stdout",
     "output_type": "stream",
     "text": [
      "5\n",
      "4\n",
      "3\n",
      "2\n",
      "1\n"
     ]
    }
   ],
   "source": [
    "countdown = 5\n",
    "\n",
    "while countdown > 0:\n",
    "    print(countdown)\n",
    "    countdown = countdown -1\n"
   ]
  },
  {
   "cell_type": "code",
   "execution_count": 6,
   "id": "4968b74b-6af5-4d4b-9f82-c70b6eccb2d9",
   "metadata": {},
   "outputs": [],
   "source": [
    "# Q2. Write a python program to print the sum and product of the first 10 natural numbers using for\n",
    "#and while loop."
   ]
  },
  {
   "cell_type": "code",
   "execution_count": 8,
   "id": "58ac0e9d-617a-4326-8d96-e15ac6e9ae5b",
   "metadata": {},
   "outputs": [],
   "source": [
    "# Ans. Using a For Loop: Python program that calculates and prints the sum and product of the first 10 natural numbers using for loop\n"
   ]
  },
  {
   "cell_type": "code",
   "execution_count": 1,
   "id": "faef3ec3-d0ea-4b8a-94fe-356333f735e6",
   "metadata": {},
   "outputs": [
    {
     "name": "stdout",
     "output_type": "stream",
     "text": [
      "Sum of first 10 natural number:  55\n",
      "Product of first 10 natural number:  3628800\n"
     ]
    }
   ],
   "source": [
    "sum_total = 0\n",
    "product_total = 1\n",
    "for i in range(1,11):\n",
    "    sum_total +=i\n",
    "    product_total*=i\n",
    "print(\"Sum of first 10 natural number: \", sum_total)\n",
    "print(\"Product of first 10 natural number: \", product_total)"
   ]
  },
  {
   "cell_type": "code",
   "execution_count": 13,
   "id": "6039f5e7-1d1c-4f31-8292-27f55f4892b0",
   "metadata": {},
   "outputs": [],
   "source": [
    "# Using a While Loop: Python program that calculates and prints the sum and product of the first 10 natural numbers using while loop"
   ]
  },
  {
   "cell_type": "code",
   "execution_count": 2,
   "id": "e9fa586e-26f7-4b03-acdb-d0d283b31809",
   "metadata": {},
   "outputs": [
    {
     "name": "stdout",
     "output_type": "stream",
     "text": [
      "sum of first 10 natural number: 55\n",
      "Product of first 10 natural number: 3628800\n"
     ]
    }
   ],
   "source": [
    "sum_total = 0\n",
    "product_total = 1\n",
    "count = 1\n",
    "\n",
    "while count <=10:\n",
    "    sum_total += count\n",
    "    product_total *= count\n",
    "    count +=1\n",
    "print(\"sum of first 10 natural number:\", sum_total)\n",
    "print(\"Product of first 10 natural number:\", product_total)"
   ]
  },
  {
   "cell_type": "code",
   "execution_count": null,
   "id": "0d8cef09-73e1-4ec1-955e-3a8c044bc20b",
   "metadata": {},
   "outputs": [],
   "source": [
    "# Q3. Create a python program to compute the electricity bill for a household.\n",
    "# The per-unit charges in rupees are as follows: For the first 100 units, the user will be charged Rs. 4.5 per unit, \n",
    "# for the next 100 units, the user will be charged Rs. 6 per unit, and for the next 100 units, the user will be charged Rs. 10 per unit, \n",
    "# After 300 units and above the user will be charged Rs. 20 per unit.\n",
    "# You are required to take the units of electricity consumed in a month from the user as input.\n",
    "# Your program must pass this test case: when the unit of electricity consumed by the user in a month is 310, \n",
    "# the total electricity bill should be 2250.\n"
   ]
  },
  {
   "cell_type": "code",
   "execution_count": 19,
   "id": "1d169761-ab9d-4946-93c0-5a4e7b047321",
   "metadata": {},
   "outputs": [
    {
     "name": "stdin",
     "output_type": "stream",
     "text": [
      "Enter unit of electricity consumed:  310\n"
     ]
    },
    {
     "name": "stdout",
     "output_type": "stream",
     "text": [
      "Electricity bill INR 2250.0\n"
     ]
    }
   ],
   "source": [
    "bill_unit = int(input(\"Enter unit of electricity consumed: \"))\n",
    "if bill_unit <=100:\n",
    "    print(\"Electricity bill INR\", bill_unit * 4.5)\n",
    "elif bill_unit <=200:\n",
    "    print(\"Electricity bill INR\", 100*4.5 + (bill_unit-100) * 6)\n",
    "elif bill_unit <= 300:\n",
    "    print(\"Electricity bill INR\", 100*4.5 + 100*6 + (bill_unit-200) * 10)\n",
    "else:\n",
    "    print(\"Electricity bill INR\", 100*4.5 + 100*6 + 100*10 + (bill_unit-300) * 20)     \n",
    "    "
   ]
  },
  {
   "cell_type": "code",
   "execution_count": 20,
   "id": "56a99aaa-c8ae-4cdd-915b-06bce79f72b2",
   "metadata": {},
   "outputs": [],
   "source": [
    "# Q4. Create a list of numbers from 1 to 100. Use for loop and while loop to calculate the cube of each\n",
    "# number and if the cube of that number is divisible by 4 or 5 then append that number in a list and print that list."
   ]
  },
  {
   "cell_type": "code",
   "execution_count": 1,
   "id": "3ed6a482-2fd5-4c10-b56a-9509ebf3448d",
   "metadata": {},
   "outputs": [
    {
     "name": "stdout",
     "output_type": "stream",
     "text": [
      "[2, 4, 5, 6, 8, 10, 12, 14, 15, 16, 18, 20, 22, 24, 25, 26, 28, 30, 32, 34, 35, 36, 38, 40, 42, 44, 45, 46, 48, 50, 52, 54, 55, 56, 58, 60, 62, 64, 65, 66, 68, 70, 72, 74, 75, 76, 78, 80, 82, 84, 85, 86, 88, 90, 92, 94, 95, 96, 98, 100]\n"
     ]
    }
   ],
   "source": [
    "# for loop to calculate cube\n",
    "numbers = list(range(1,101))\n",
    "list_for = []\n",
    "for num in numbers:\n",
    "    cube = num**3\n",
    "    if cube % 4 ==0 or cube % 5 ==0:\n",
    "        list_for.append(num)\n",
    "print(list_for)\n"
   ]
  },
  {
   "cell_type": "code",
   "execution_count": 2,
   "id": "b9c81f16-2c9b-4a64-aa17-028dbacb9e54",
   "metadata": {},
   "outputs": [
    {
     "name": "stdout",
     "output_type": "stream",
     "text": [
      "[2, 4, 5, 6, 8, 10, 12, 14, 15, 16, 18, 20, 22, 24, 25, 26, 28, 30, 32, 34, 35, 36, 38, 40, 42, 44, 45, 46, 48, 50, 52, 54, 55, 56, 58, 60, 62, 64, 65, 66, 68, 70, 72, 74, 75, 76, 78, 80, 82, 84, 85, 86, 88, 90, 92, 94, 95, 96, 98, 100]\n"
     ]
    }
   ],
   "source": [
    "# while loop to calculate cube\n",
    "numbers = list(range(1,101))\n",
    "list_while = []\n",
    "index = 0\n",
    "while index < len(numbers):\n",
    "    num = numbers[index]\n",
    "    cube = num **3\n",
    "    if cube % 4 ==0 or cube % 5 ==0:\n",
    "        list_while.append(num)\n",
    "    index +=1\n",
    "print(list_while)"
   ]
  },
  {
   "cell_type": "code",
   "execution_count": 3,
   "id": "9871de6f-8a06-4921-87ef-23386d1358af",
   "metadata": {},
   "outputs": [],
   "source": [
    "# Q5. Write a program to filter count vowels in the below-given string.\n",
    "#string = \"I want to become a data scientist\""
   ]
  },
  {
   "cell_type": "code",
   "execution_count": 6,
   "id": "cc1d8042-5fa5-4541-8d34-eeee54b8c84e",
   "metadata": {},
   "outputs": [
    {
     "name": "stdout",
     "output_type": "stream",
     "text": [
      "Total number of vowels in string is:  12\n"
     ]
    }
   ],
   "source": [
    "string = \"I want to become a data scientist\"\n",
    "vowel_count = 0\n",
    "vowels = {'a','e','i','o','u','A','E','I','O','U'}\n",
    "for char in string:\n",
    "    if char in vowels:\n",
    "        vowel_count +=1\n",
    "print(\"Total number of vowels in string is: \", vowel_count)"
   ]
  },
  {
   "cell_type": "code",
   "execution_count": null,
   "id": "c848e17c-27a7-4b07-b902-6f784980e3e8",
   "metadata": {},
   "outputs": [],
   "source": []
  }
 ],
 "metadata": {
  "kernelspec": {
   "display_name": "Python 3 (ipykernel)",
   "language": "python",
   "name": "python3"
  },
  "language_info": {
   "codemirror_mode": {
    "name": "ipython",
    "version": 3
   },
   "file_extension": ".py",
   "mimetype": "text/x-python",
   "name": "python",
   "nbconvert_exporter": "python",
   "pygments_lexer": "ipython3",
   "version": "3.12.3"
  }
 },
 "nbformat": 4,
 "nbformat_minor": 5
}
